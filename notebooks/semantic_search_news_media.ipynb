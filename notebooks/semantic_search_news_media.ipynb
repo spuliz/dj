{
 "cells": [
  {
   "cell_type": "markdown",
   "metadata": {},
   "source": [
    "# Semantic Search for News Media\n",
    "\n",
    "This notebook implements a semantic search solution for news articles to enhance content discovery and recommendation in media publishing.\n",
    "\n",
    "## 1. Dataset Sourcing\n",
    "\n",
    "I will be using the AG News Corpus, a collection of more than 1 million news articles gathered from more than 2000 news sources. For this project, we'll use the subset available in the Hugging Face datasets library, which contains 120,000 training samples and 7,600 test samples from 4 categories: World, Sports, Business, and Science/Technology.\n",
    "\n",
    "### Justification\n",
    "- AG News is a widely-used, open-source dataset ideal for text classification and semantic search\n",
    "- It contains real news articles across diverse topics, making it relevant for media publishing\n",
    "- The dataset presents a realistic challenge for building information retrieval systems for news content\n",
    "- It allows us to experiment with topic-based and content-based search capabilities"
   ]
  },
  {
   "cell_type": "code",
   "execution_count": 1,
   "metadata": {},
   "outputs": [
    {
     "name": "stdout",
     "output_type": "stream",
     "text": [
      "Requirement already satisfied: transformers in /Users/spuliz/.pyenv/versions/3.9.17/lib/python3.9/site-packages (4.48.1)\n",
      "Requirement already satisfied: datasets in /Users/spuliz/.pyenv/versions/3.9.17/lib/python3.9/site-packages (3.2.0)\n",
      "Requirement already satisfied: sentence-transformers in /Users/spuliz/.pyenv/versions/3.9.17/lib/python3.9/site-packages (3.4.1)\n",
      "Requirement already satisfied: faiss-cpu in /Users/spuliz/.pyenv/versions/3.9.17/lib/python3.9/site-packages (1.11.0)\n",
      "Requirement already satisfied: numpy in /Users/spuliz/.pyenv/versions/3.9.17/lib/python3.9/site-packages (1.25.1)\n",
      "Requirement already satisfied: pandas in /Users/spuliz/.pyenv/versions/3.9.17/lib/python3.9/site-packages (2.0.3)\n",
      "Requirement already satisfied: matplotlib in /Users/spuliz/.pyenv/versions/3.9.17/lib/python3.9/site-packages (3.7.2)\n",
      "Requirement already satisfied: scikit-learn in /Users/spuliz/.pyenv/versions/3.9.17/lib/python3.9/site-packages (1.5.1)\n",
      "Requirement already satisfied: torch in /Users/spuliz/.pyenv/versions/3.9.17/lib/python3.9/site-packages (2.6.0)\n",
      "Requirement already satisfied: filelock in /Users/spuliz/.pyenv/versions/3.9.17/lib/python3.9/site-packages (from transformers) (3.16.1)\n",
      "Requirement already satisfied: huggingface-hub<1.0,>=0.24.0 in /Users/spuliz/.pyenv/versions/3.9.17/lib/python3.9/site-packages (from transformers) (0.27.1)\n",
      "Requirement already satisfied: packaging>=20.0 in /Users/spuliz/.pyenv/versions/3.9.17/lib/python3.9/site-packages (from transformers) (23.1)\n",
      "Requirement already satisfied: pyyaml>=5.1 in /Users/spuliz/.pyenv/versions/3.9.17/lib/python3.9/site-packages (from transformers) (6.0.2)\n",
      "Requirement already satisfied: regex!=2019.12.17 in /Users/spuliz/.pyenv/versions/3.9.17/lib/python3.9/site-packages (from transformers) (2024.11.6)\n",
      "Requirement already satisfied: requests in /Users/spuliz/.pyenv/versions/3.9.17/lib/python3.9/site-packages (from transformers) (2.32.3)\n",
      "Requirement already satisfied: tokenizers<0.22,>=0.21 in /Users/spuliz/.pyenv/versions/3.9.17/lib/python3.9/site-packages (from transformers) (0.21.0)\n",
      "Requirement already satisfied: safetensors>=0.4.1 in /Users/spuliz/.pyenv/versions/3.9.17/lib/python3.9/site-packages (from transformers) (0.5.2)\n",
      "Requirement already satisfied: tqdm>=4.27 in /Users/spuliz/.pyenv/versions/3.9.17/lib/python3.9/site-packages (from transformers) (4.67.1)\n",
      "Requirement already satisfied: pyarrow>=15.0.0 in /Users/spuliz/.pyenv/versions/3.9.17/lib/python3.9/site-packages (from datasets) (19.0.0)\n",
      "Requirement already satisfied: dill<0.3.9,>=0.3.0 in /Users/spuliz/.pyenv/versions/3.9.17/lib/python3.9/site-packages (from datasets) (0.3.8)\n",
      "Requirement already satisfied: xxhash in /Users/spuliz/.pyenv/versions/3.9.17/lib/python3.9/site-packages (from datasets) (3.5.0)\n",
      "Requirement already satisfied: multiprocess<0.70.17 in /Users/spuliz/.pyenv/versions/3.9.17/lib/python3.9/site-packages (from datasets) (0.70.16)\n",
      "Requirement already satisfied: fsspec[http]<=2024.9.0,>=2023.1.0 in /Users/spuliz/.pyenv/versions/3.9.17/lib/python3.9/site-packages (from datasets) (2024.9.0)\n",
      "Requirement already satisfied: aiohttp in /Users/spuliz/.pyenv/versions/3.9.17/lib/python3.9/site-packages (from datasets) (3.8.1)\n",
      "Requirement already satisfied: scipy in /Users/spuliz/.pyenv/versions/3.9.17/lib/python3.9/site-packages (from sentence-transformers) (1.13.1)\n",
      "Requirement already satisfied: Pillow in /Users/spuliz/.pyenv/versions/3.9.17/lib/python3.9/site-packages (from sentence-transformers) (10.0.0)\n",
      "Requirement already satisfied: python-dateutil>=2.8.2 in /Users/spuliz/.pyenv/versions/3.9.17/lib/python3.9/site-packages (from pandas) (2.8.2)\n",
      "Requirement already satisfied: pytz>=2020.1 in /Users/spuliz/.pyenv/versions/3.9.17/lib/python3.9/site-packages (from pandas) (2023.3)\n",
      "Requirement already satisfied: tzdata>=2022.1 in /Users/spuliz/.pyenv/versions/3.9.17/lib/python3.9/site-packages (from pandas) (2023.3)\n",
      "Requirement already satisfied: contourpy>=1.0.1 in /Users/spuliz/.pyenv/versions/3.9.17/lib/python3.9/site-packages (from matplotlib) (1.1.0)\n",
      "Requirement already satisfied: cycler>=0.10 in /Users/spuliz/.pyenv/versions/3.9.17/lib/python3.9/site-packages (from matplotlib) (0.11.0)\n",
      "Requirement already satisfied: fonttools>=4.22.0 in /Users/spuliz/.pyenv/versions/3.9.17/lib/python3.9/site-packages (from matplotlib) (4.41.1)\n",
      "Requirement already satisfied: kiwisolver>=1.0.1 in /Users/spuliz/.pyenv/versions/3.9.17/lib/python3.9/site-packages (from matplotlib) (1.4.4)\n",
      "Requirement already satisfied: pyparsing<3.1,>=2.3.1 in /Users/spuliz/.pyenv/versions/3.9.17/lib/python3.9/site-packages (from matplotlib) (3.0.9)\n",
      "Requirement already satisfied: importlib-resources>=3.2.0 in /Users/spuliz/.pyenv/versions/3.9.17/lib/python3.9/site-packages (from matplotlib) (6.0.0)\n",
      "Requirement already satisfied: joblib>=1.2.0 in /Users/spuliz/.pyenv/versions/3.9.17/lib/python3.9/site-packages (from scikit-learn) (1.4.2)\n",
      "Requirement already satisfied: threadpoolctl>=3.1.0 in /Users/spuliz/.pyenv/versions/3.9.17/lib/python3.9/site-packages (from scikit-learn) (3.5.0)\n",
      "Requirement already satisfied: typing-extensions>=4.10.0 in /Users/spuliz/.pyenv/versions/3.9.17/lib/python3.9/site-packages (from torch) (4.12.2)\n",
      "Requirement already satisfied: networkx in /Users/spuliz/.pyenv/versions/3.9.17/lib/python3.9/site-packages (from torch) (3.2.1)\n",
      "Requirement already satisfied: jinja2 in /Users/spuliz/.pyenv/versions/3.9.17/lib/python3.9/site-packages (from torch) (3.1.4)\n",
      "Requirement already satisfied: sympy==1.13.1 in /Users/spuliz/.pyenv/versions/3.9.17/lib/python3.9/site-packages (from torch) (1.13.1)\n",
      "Requirement already satisfied: mpmath<1.4,>=1.1.0 in /Users/spuliz/.pyenv/versions/3.9.17/lib/python3.9/site-packages (from sympy==1.13.1->torch) (1.3.0)\n",
      "Requirement already satisfied: attrs>=17.3.0 in /Users/spuliz/.pyenv/versions/3.9.17/lib/python3.9/site-packages (from aiohttp->datasets) (23.2.0)\n",
      "Requirement already satisfied: charset-normalizer<3.0,>=2.0 in /Users/spuliz/.pyenv/versions/3.9.17/lib/python3.9/site-packages (from aiohttp->datasets) (2.1.1)\n",
      "Requirement already satisfied: multidict<7.0,>=4.5 in /Users/spuliz/.pyenv/versions/3.9.17/lib/python3.9/site-packages (from aiohttp->datasets) (6.0.4)\n",
      "Requirement already satisfied: async-timeout<5.0,>=4.0.0a3 in /Users/spuliz/.pyenv/versions/3.9.17/lib/python3.9/site-packages (from aiohttp->datasets) (4.0.2)\n",
      "Requirement already satisfied: yarl<2.0,>=1.0 in /Users/spuliz/.pyenv/versions/3.9.17/lib/python3.9/site-packages (from aiohttp->datasets) (1.9.2)\n",
      "Requirement already satisfied: frozenlist>=1.1.1 in /Users/spuliz/.pyenv/versions/3.9.17/lib/python3.9/site-packages (from aiohttp->datasets) (1.4.0)\n",
      "Requirement already satisfied: aiosignal>=1.1.2 in /Users/spuliz/.pyenv/versions/3.9.17/lib/python3.9/site-packages (from aiohttp->datasets) (1.3.1)\n",
      "Requirement already satisfied: zipp>=3.1.0 in /Users/spuliz/.pyenv/versions/3.9.17/lib/python3.9/site-packages (from importlib-resources>=3.2.0->matplotlib) (3.16.2)\n",
      "Requirement already satisfied: six>=1.5 in /Users/spuliz/.pyenv/versions/3.9.17/lib/python3.9/site-packages (from python-dateutil>=2.8.2->pandas) (1.16.0)\n",
      "Requirement already satisfied: idna<4,>=2.5 in /Users/spuliz/.pyenv/versions/3.9.17/lib/python3.9/site-packages (from requests->transformers) (3.4)\n",
      "Requirement already satisfied: urllib3<3,>=1.21.1 in /Users/spuliz/.pyenv/versions/3.9.17/lib/python3.9/site-packages (from requests->transformers) (1.26.19)\n",
      "Requirement already satisfied: certifi>=2017.4.17 in /Users/spuliz/.pyenv/versions/3.9.17/lib/python3.9/site-packages (from requests->transformers) (2023.5.7)\n",
      "Requirement already satisfied: MarkupSafe>=2.0 in /Users/spuliz/.pyenv/versions/3.9.17/lib/python3.9/site-packages (from jinja2->torch) (2.1.5)\n",
      "\n",
      "\u001b[1m[\u001b[0m\u001b[34;49mnotice\u001b[0m\u001b[1;39;49m]\u001b[0m\u001b[39;49m A new release of pip is available: \u001b[0m\u001b[31;49m23.2\u001b[0m\u001b[39;49m -> \u001b[0m\u001b[32;49m25.1.1\u001b[0m\n",
      "\u001b[1m[\u001b[0m\u001b[34;49mnotice\u001b[0m\u001b[1;39;49m]\u001b[0m\u001b[39;49m To update, run: \u001b[0m\u001b[32;49mpip install --upgrade pip\u001b[0m\n"
     ]
    }
   ],
   "source": [
    "# Install required packages\n",
    "!pip install transformers datasets sentence-transformers faiss-cpu numpy pandas matplotlib scikit-learn torch"
   ]
  },
  {
   "cell_type": "markdown",
   "metadata": {},
   "source": [
    "## 2. Problem Definition\n",
    "\n",
    "### Problem Statement\n",
    "The problem I aim to solve is to create an efficient semantic search system for news articles that can enhance content discovery and recommendation for readers. Given a query or topic of interest, the system should identify and retrieve the most semantically relevant news articles, going beyond simple keyword matching.\n",
    "\n",
    "### Significance\n",
    "- News publishers face the challenge of connecting readers with relevant content across thousands of articles\n",
    "- Traditional keyword search often misses articles that are conceptually related but use different terminology\n",
    "- Semantic search can improve user engagement by surfacing more relevant content recommendations\n",
    "- This technology can help readers discover related news stories and explore topics in greater depth\n",
    "- Media companies can leverage this to increase readership, time on site, and subscription value"
   ]
  },
  {
   "cell_type": "markdown",
   "metadata": {},
   "source": [
    "## 3. Approach and Pipeline\n",
    "\n",
    "### Approach\n",
    "I will build a semantic search system for news articles using dense vector embeddings from a pre-trained transformer model. The system will:\n",
    "1. Encode news articles into dense vector representations\n",
    "2. Index these vectors using FAISS for efficient similarity search\n",
    "3. Encode user queries using the same model\n",
    "4. Retrieve the most semantically similar news articles to the query\n",
    "5. Evaluate the system's ability to retrieve relevant content both within and across news categories\n",
    "\n",
    "### Tools and Libraries\n",
    "- **Sentence-Transformers**: For creating semantic embeddings of news content\n",
    "- **FAISS**: For efficient similarity search and indexing of articles\n",
    "- **Transformers & Datasets**: For loading and processing the news dataset\n",
    "- **PyTorch**: As the underlying deep learning framework\n",
    "- **Pandas, Numpy**: For data manipulation\n",
    "- **Matplotlib, Scikit-learn**: For visualization and evaluation\n",
    "\n",
    "### Pipeline\n",
    "1. **Data Preprocessing**: Load AG News, extract articles and their categories\n",
    "2. **Feature Engineering**: Create embeddings for news articles\n",
    "3. **Model Building**: Create FAISS index for fast similarity search\n",
    "4. **Evaluation**: Measure retrieval performance and relevance"
   ]
  },
  {
   "cell_type": "code",
   "execution_count": 2,
   "metadata": {},
   "outputs": [],
   "source": [
    "# Import necessary libraries\n",
    "import numpy as np\n",
    "import pandas as pd\n",
    "import matplotlib.pyplot as plt\n",
    "import torch\n",
    "from datasets import load_dataset\n",
    "from sentence_transformers import SentenceTransformer\n",
    "import faiss\n",
    "from sklearn.metrics import classification_report, confusion_matrix\n",
    "import json\n",
    "import time\n",
    "import os\n",
    "import pickle\n",
    "import gc  # Garbage collector"
   ]
  },
  {
   "cell_type": "markdown",
   "metadata": {},
   "source": [
    "## 4. Implementation"
   ]
  },
  {
   "cell_type": "markdown",
   "metadata": {},
   "source": [
    "### 4.1 Data Loading and Preprocessing"
   ]
  },
  {
   "cell_type": "code",
   "execution_count": 3,
   "metadata": {},
   "outputs": [
    {
     "data": {
      "application/vnd.jupyter.widget-view+json": {
       "model_id": "3d23f37f34504ab19efe7b35d364eb50",
       "version_major": 2,
       "version_minor": 0
      },
      "text/plain": [
       "README.md:   0%|          | 0.00/8.07k [00:00<?, ?B/s]"
      ]
     },
     "metadata": {},
     "output_type": "display_data"
    },
    {
     "data": {
      "application/vnd.jupyter.widget-view+json": {
       "model_id": "9cbbedb24ed64c86b226a5c345be19b9",
       "version_major": 2,
       "version_minor": 0
      },
      "text/plain": [
       "train-00000-of-00001.parquet:   0%|          | 0.00/18.6M [00:00<?, ?B/s]"
      ]
     },
     "metadata": {},
     "output_type": "display_data"
    },
    {
     "data": {
      "application/vnd.jupyter.widget-view+json": {
       "model_id": "42b831ee25674c37ba0d5a14c3382da0",
       "version_major": 2,
       "version_minor": 0
      },
      "text/plain": [
       "test-00000-of-00001.parquet:   0%|          | 0.00/1.23M [00:00<?, ?B/s]"
      ]
     },
     "metadata": {},
     "output_type": "display_data"
    },
    {
     "data": {
      "application/vnd.jupyter.widget-view+json": {
       "model_id": "b86f4415024f4f138ca5acf55e949160",
       "version_major": 2,
       "version_minor": 0
      },
      "text/plain": [
       "Generating train split:   0%|          | 0/120000 [00:00<?, ? examples/s]"
      ]
     },
     "metadata": {},
     "output_type": "display_data"
    },
    {
     "data": {
      "application/vnd.jupyter.widget-view+json": {
       "model_id": "be1a104a05f94ef0a029ec38c490fe1f",
       "version_major": 2,
       "version_minor": 0
      },
      "text/plain": [
       "Generating test split:   0%|          | 0/7600 [00:00<?, ? examples/s]"
      ]
     },
     "metadata": {},
     "output_type": "display_data"
    },
    {
     "name": "stdout",
     "output_type": "stream",
     "text": [
      "Dataset loaded with 120000 training and 7600 test examples\n",
      "\n",
      "Sample from the dataset:\n",
      "Title: Wall St\n",
      "Content: Wall St. Bears Claw Back Into the Black (Reuters) Reuters - Short-sellers, Wall Street's dwindling\\band of ultra-cynics, are seeing green again.\n",
      "Category: Business\n"
     ]
    }
   ],
   "source": [
    "# Load the AG News dataset\n",
    "ag_news = load_dataset(\"ag_news\")\n",
    "print(f\"Dataset loaded with {len(ag_news['train'])} training and {len(ag_news['test'])} test examples\")\n",
    "\n",
    "# Define category mapping\n",
    "category_mapping = {\n",
    "    0: \"World\",\n",
    "    1: \"Sports\",\n",
    "    2: \"Business\",\n",
    "    3: \"Science/Technology\"\n",
    "}\n",
    "\n",
    "# Display a sample from the dataset\n",
    "print(\"\\nSample from the dataset:\")\n",
    "sample = ag_news['train'][0]\n",
    "print(f\"Title: {sample['text'].split('.')[0]}\")\n",
    "print(f\"Content: {sample['text']}\")\n",
    "print(f\"Category: {category_mapping[sample['label']]}\")"
   ]
  },
  {
   "cell_type": "code",
   "execution_count": 4,
   "metadata": {},
   "outputs": [
    {
     "name": "stdout",
     "output_type": "stream",
     "text": [
      "Working with 5000 training samples and 1000 test samples\n"
     ]
    }
   ],
   "source": [
    "# To avoid memory issues, we'll work with a smaller subset of the dataset\n",
    "MAX_TRAIN_SAMPLES = 5000  # Reduce this if memory is still an issue\n",
    "MAX_TEST_SAMPLES = 1000\n",
    "\n",
    "# Create smaller versions of the datasets\n",
    "train_subset = ag_news['train'].select(range(min(MAX_TRAIN_SAMPLES, len(ag_news['train']))))\n",
    "test_subset = ag_news['test'].select(range(min(MAX_TEST_SAMPLES, len(ag_news['test']))))\n",
    "\n",
    "print(f\"Working with {len(train_subset)} training samples and {len(test_subset)} test samples\")"
   ]
  },
  {
   "cell_type": "code",
   "execution_count": 5,
   "metadata": {},
   "outputs": [
    {
     "name": "stdout",
     "output_type": "stream",
     "text": [
      "\n",
      "Training dataset category distribution:\n",
      "category\n",
      "Science/Technology    1497\n",
      "Business              1236\n",
      "World                 1235\n",
      "Sports                1032\n",
      "Name: count, dtype: int64\n",
      "\n",
      "Article length statistics:\n",
      "count    5000.000000\n",
      "mean      246.303600\n",
      "std        83.204995\n",
      "min       100.000000\n",
      "25%       193.000000\n",
      "50%       245.000000\n",
      "75%       284.000000\n",
      "max       959.000000\n",
      "Name: article_length, dtype: float64\n"
     ]
    }
   ],
   "source": [
    "# Combine title and content to form article text (title is the first sentence)\n",
    "# We'll also create a DataFrame for easier manipulation\n",
    "train_df = pd.DataFrame({\n",
    "    'article': [item['text'] for item in train_subset],\n",
    "    'category': [category_mapping[item['label']] for item in train_subset],\n",
    "    'category_id': [item['label'] for item in train_subset]\n",
    "})\n",
    "\n",
    "test_df = pd.DataFrame({\n",
    "    'article': [item['text'] for item in test_subset],\n",
    "    'category': [category_mapping[item['label']] for item in test_subset],\n",
    "    'category_id': [item['label'] for item in test_subset]\n",
    "})\n",
    "\n",
    "# Display dataset statistics\n",
    "print(\"\\nTraining dataset category distribution:\")\n",
    "print(train_df['category'].value_counts())\n",
    "\n",
    "# Overview of article lengths\n",
    "train_df['article_length'] = train_df['article'].apply(len)\n",
    "print(f\"\\nArticle length statistics:\\n{train_df['article_length'].describe()}\")"
   ]
  },
  {
   "cell_type": "markdown",
   "metadata": {},
   "source": [
    "### 4.2 Creating Embeddings"
   ]
  },
  {
   "cell_type": "code",
   "execution_count": 6,
   "metadata": {},
   "outputs": [
    {
     "name": "stdout",
     "output_type": "stream",
     "text": [
      "Loaded model: all-MiniLM-L6-v2\n"
     ]
    }
   ],
   "source": [
    "# Load the sentence transformer model for creating embeddings\n",
    "model_name = \"all-MiniLM-L6-v2\"  # Smaller, faster model for demonstration\n",
    "model = SentenceTransformer(model_name)\n",
    "print(f\"Loaded model: {model_name}\")\n",
    "\n",
    "# Function to create embeddings for a list of texts with memory optimization\n",
    "def create_embeddings(texts, model, batch_size=16, save_path=None):\n",
    "    # Check if embeddings already exist\n",
    "    if save_path and os.path.exists(save_path):\n",
    "        print(f\"Loading pre-computed embeddings from {save_path}\")\n",
    "        with open(save_path, 'rb') as f:\n",
    "            return pickle.load(f)\n",
    "    \n",
    "    # Create directory if it doesn't exist\n",
    "    if save_path:\n",
    "        os.makedirs(os.path.dirname(save_path), exist_ok=True)\n",
    "    \n",
    "    # Create embeddings in smaller batches to manage memory\n",
    "    embeddings = model.encode(texts, batch_size=batch_size, show_progress_bar=True)\n",
    "    \n",
    "    # Save embeddings if path is provided\n",
    "    if save_path:\n",
    "        with open(save_path, 'wb') as f:\n",
    "            pickle.dump(embeddings, f)\n",
    "    \n",
    "    return embeddings"
   ]
  },
  {
   "cell_type": "code",
   "execution_count": 7,
   "metadata": {},
   "outputs": [
    {
     "name": "stdout",
     "output_type": "stream",
     "text": [
      "Creating embeddings for news articles...\n"
     ]
    },
    {
     "data": {
      "application/vnd.jupyter.widget-view+json": {
       "model_id": "e7983e2847cb4eb9a83a8994b66f083c",
       "version_major": 2,
       "version_minor": 0
      },
      "text/plain": [
       "Batches:   0%|          | 0/313 [00:00<?, ?it/s]"
      ]
     },
     "metadata": {},
     "output_type": "display_data"
    },
    {
     "name": "stdout",
     "output_type": "stream",
     "text": [
      "Embeddings created in 39.18 seconds\n",
      "Embedding shape: (5000, 384)\n"
     ]
    },
    {
     "data": {
      "text/plain": [
       "76"
      ]
     },
     "execution_count": 7,
     "metadata": {},
     "output_type": "execute_result"
    }
   ],
   "source": [
    "# Create data directory if it doesn't exist\n",
    "os.makedirs('data', exist_ok=True)\n",
    "\n",
    "# Create embeddings for the training articles\n",
    "print(\"Creating embeddings for news articles...\")\n",
    "start_time = time.time()\n",
    "train_article_embeddings = create_embeddings(\n",
    "    train_df['article'].tolist(), \n",
    "    model, \n",
    "    batch_size=16,  # Smaller batch size to reduce memory usage\n",
    "    save_path='data/train_article_embeddings.pkl'\n",
    ")\n",
    "print(f\"Embeddings created in {time.time() - start_time:.2f} seconds\")\n",
    "print(f\"Embedding shape: {train_article_embeddings.shape}\")\n",
    "\n",
    "# Run garbage collection to free memory\n",
    "gc.collect()"
   ]
  },
  {
   "cell_type": "markdown",
   "metadata": {},
   "source": [
    "### 4.3 Building the FAISS Index for Semantic Search"
   ]
  },
  {
   "cell_type": "code",
   "execution_count": 8,
   "metadata": {},
   "outputs": [
    {
     "name": "stdout",
     "output_type": "stream",
     "text": [
      "FAISS index built with 5000 vectors\n",
      "Index saved to disk\n"
     ]
    }
   ],
   "source": [
    "# Build FAISS index for fast similarity search\n",
    "embedding_dim = train_article_embeddings.shape[1]\n",
    "index = faiss.IndexFlatIP(embedding_dim)  # Inner product (cosine similarity when vectors are normalized)\n",
    "\n",
    "# Normalize vectors for cosine similarity\n",
    "faiss.normalize_L2(train_article_embeddings)\n",
    "\n",
    "# Add vectors to the index\n",
    "index.add(train_article_embeddings)\n",
    "print(f\"FAISS index built with {index.ntotal} vectors\")\n",
    "\n",
    "# Save the index for future use\n",
    "faiss.write_index(index, 'data/news_faiss_index.bin')\n",
    "print(\"Index saved to disk\")"
   ]
  },
  {
   "cell_type": "markdown",
   "metadata": {},
   "source": [
    "### 4.4 Semantic Search Function"
   ]
  },
  {
   "cell_type": "code",
   "execution_count": 9,
   "metadata": {},
   "outputs": [],
   "source": [
    "# Function to perform semantic search for news articles\n",
    "def semantic_news_search(query, index, df, top_k=5):\n",
    "    # Encode the query\n",
    "    query_embedding = model.encode([query])\n",
    "    # Normalize for cosine similarity\n",
    "    faiss.normalize_L2(query_embedding)\n",
    "    \n",
    "    # Search the index\n",
    "    scores, indices = index.search(query_embedding, top_k)\n",
    "    \n",
    "    # Return results\n",
    "    results = []\n",
    "    for i, idx in enumerate(indices[0]):\n",
    "        idx = int(idx)  # Convert from numpy.int64 to avoid issues\n",
    "        results.append({\n",
    "            'article': df.iloc[idx]['article'],\n",
    "            'category': df.iloc[idx]['category'],\n",
    "            'score': float(scores[0][i]),\n",
    "            'index': idx\n",
    "        })\n",
    "    \n",
    "    return results"
   ]
  },
  {
   "cell_type": "code",
   "execution_count": 10,
   "metadata": {},
   "outputs": [
    {
     "name": "stdout",
     "output_type": "stream",
     "text": [
      "\n",
      "Query: Latest developments in artificial intelligence\n",
      "Top 3 search results:\n",
      "Result 1 (Score: 0.4886, Category: Science/Technology)\n",
      "NASA Develops Robust Artificial Intelligence for Planetary Rovers NASA is planning to add a strong dose of artificial intelligence (AI) to planetary rovers to make them much more self-reliant, capable...\n",
      "\n",
      "Result 2 (Score: 0.3867, Category: Business)\n",
      "Computers with multiple personalities The jury's still out on whether a computer can ever truly be intelligent, but there's no question that it can have multiple personalities. It's just a matter of s...\n",
      "\n",
      "Result 3 (Score: 0.3358, Category: Science/Technology)\n",
      "New NASA Supercomputer to Aid Theorists and Shuttle Engineers (SPACE.com) SPACE.com - NASA researchers have teamed up with a pair of Silicon Valley firms to build \\  a supercomputer that ranks alongsi...\n",
      "\n",
      "\n",
      "Query: Soccer match results and player transfers\n",
      "Top 3 search results:\n",
      "Result 1 (Score: 0.3780, Category: Sports)\n",
      "Matildas #39;salvage late draw with US ATHENS: Australia #39;s Matildas salvaged a 1-1 draw against the United States at the Athens Olympics on Tuesday to join the Americans in the last eight of the w...\n",
      "\n",
      "Result 2 (Score: 0.3774, Category: Sports)\n",
      "Liverpool set for flurry of transfers Rafael Benitez could continue the flurry of activity at Anfield before the transfer window closes at the end of the month. ...\n",
      "\n",
      "Result 3 (Score: 0.3685, Category: Sports)\n",
      "US women settle for tie The United States women #39;s soccer team needed only a tie yesterday and that #39;s all it got -- settling for a draw against a team it always had beaten. ...\n",
      "\n",
      "\n",
      "Query: Stock market trends and economic outlook\n",
      "Top 3 search results:\n",
      "Result 1 (Score: 0.6002, Category: Business)\n",
      "Stocks Higher on Economic Data, Earnings  NEW YORK (Reuters) - U.S. stocks traded higher on Tuesday,  despite oil prices hitting a new high before falling back, as  U.S. economic reports showed an eas...\n",
      "\n",
      "Result 2 (Score: 0.5912, Category: Business)\n",
      "Oil and Economy Cloud Stocks' Outlook (Reuters) Reuters - Soaring crude prices plus worries\\about the economy and the outlook for earnings are expected to\\hang over the stock market next week during t...\n",
      "\n",
      "Result 3 (Score: 0.5864, Category: Business)\n",
      "Oil and Economy Cloud Stocks' Outlook (Reuters) Reuters - Soaring crude prices plus worries\\about the economy and the outlook for earnings are expected to\\hang over the stock market this week during t...\n",
      "\n",
      "\n",
      "Query: International politics and diplomatic relations\n",
      "Top 3 search results:\n",
      "Result 1 (Score: 0.4473, Category: World)\n",
      "Australia envoy in N Korea talks Australia #39;s foreign minister is in North Korea, urging the Stalinist state to renounce nuclear weapons. ...\n",
      "\n",
      "Result 2 (Score: 0.4448, Category: World)\n",
      "Australian foreign minister ends  #39;productive #39; North Korea talks Australia #39;s foreign minister, Alexander Downer, has wrapped up talks in North Korea on the stand-off over the country #39;s ...\n",
      "\n",
      "Result 3 (Score: 0.4138, Category: World)\n",
      "Developing states to seek voice in fighting terror (Reuters) Reuters - Developing nations launched their annual diplomatic summit on Tuesday with a plea to the United States and other powerful countri...\n",
      "\n"
     ]
    }
   ],
   "source": [
    "# Test the semantic search with sample queries\n",
    "sample_queries = [\n",
    "    \"Latest developments in artificial intelligence\",\n",
    "    \"Soccer match results and player transfers\",\n",
    "    \"Stock market trends and economic outlook\",\n",
    "    \"International politics and diplomatic relations\"\n",
    "]\n",
    "\n",
    "for query in sample_queries:\n",
    "    print(f\"\\nQuery: {query}\")\n",
    "    search_results = semantic_news_search(query, index, train_df, top_k=3)\n",
    "    \n",
    "    print(\"Top 3 search results:\")\n",
    "    for i, result in enumerate(search_results):\n",
    "        print(f\"Result {i+1} (Score: {result['score']:.4f}, Category: {result['category']})\")\n",
    "        print(f\"{result['article'][:200]}...\\n\")"
   ]
  },
  {
   "cell_type": "markdown",
   "metadata": {},
   "source": [
    "### 4.5 Evaluation"
   ]
  },
  {
   "cell_type": "code",
   "execution_count": 11,
   "metadata": {},
   "outputs": [],
   "source": [
    "# Evaluate the semantic search system on topic coherence\n",
    "def evaluate_category_retrieval(queries, index, df, top_k=5):\n",
    "    # Map of expected category for each query\n",
    "    query_category_map = {\n",
    "        \"Latest tech gadgets and innovations\": \"Science/Technology\",\n",
    "        \"Soccer tournament and championship results\": \"Sports\",\n",
    "        \"Stock market performance and financial news\": \"Business\",\n",
    "        \"International political developments\": \"World\"\n",
    "    }\n",
    "    \n",
    "    category_precision = {}\n",
    "    overall_correct = 0\n",
    "    total_results = 0\n",
    "    \n",
    "    for query, expected_category in query_category_map.items():\n",
    "        print(f\"\\nEvaluating query: {query} (Expected: {expected_category})\")\n",
    "        results = semantic_news_search(query, index, df, top_k=top_k)\n",
    "        \n",
    "        correct = sum(1 for r in results if r['category'] == expected_category)\n",
    "        precision = correct / len(results)\n",
    "        overall_correct += correct\n",
    "        total_results += len(results)\n",
    "        \n",
    "        category_precision[expected_category] = precision\n",
    "        print(f\"Category precision: {precision:.2f} ({correct}/{len(results)} articles match expected category)\")\n",
    "    \n",
    "    overall_precision = overall_correct / total_results\n",
    "    print(f\"\\nOverall category precision: {overall_precision:.2f}\")\n",
    "    \n",
    "    return category_precision, overall_precision"
   ]
  },
  {
   "cell_type": "code",
   "execution_count": 12,
   "metadata": {},
   "outputs": [
    {
     "name": "stdout",
     "output_type": "stream",
     "text": [
      "\n",
      "Evaluating query: Latest tech gadgets and innovations (Expected: Science/Technology)\n",
      "Category precision: 0.60 (3/5 articles match expected category)\n",
      "\n",
      "Evaluating query: Soccer tournament and championship results (Expected: Sports)\n",
      "Category precision: 1.00 (5/5 articles match expected category)\n",
      "\n",
      "Evaluating query: Stock market performance and financial news (Expected: Business)\n",
      "Category precision: 1.00 (5/5 articles match expected category)\n",
      "\n",
      "Evaluating query: International political developments (Expected: World)\n",
      "Category precision: 0.80 (4/5 articles match expected category)\n",
      "\n",
      "Overall category precision: 0.85\n"
     ]
    }
   ],
   "source": [
    "# Evaluate category retrieval performance\n",
    "test_queries = [\n",
    "    \"Latest tech gadgets and innovations\",\n",
    "    \"Soccer tournament and championship results\",\n",
    "    \"Stock market performance and financial news\",\n",
    "    \"International political developments\"\n",
    "]\n",
    "\n",
    "category_precision, overall_precision = evaluate_category_retrieval(test_queries, index, train_df, top_k=5)"
   ]
  },
  {
   "cell_type": "code",
   "execution_count": 13,
   "metadata": {},
   "outputs": [
    {
     "data": {
      "image/png": "[encoded data removed]",
      "text/plain": [
       "<Figure size 1000x600 with 1 Axes>"
      ]
     },
     "metadata": {},
     "output_type": "display_data"
    }
   ],
   "source": [
    "# Visualize category precision for each query type\n",
    "plt.figure(figsize=(10, 6))\n",
    "categories = list(category_precision.keys())\n",
    "precision_values = list(category_precision.values())\n",
    "\n",
    "bars = plt.bar(categories, precision_values, color=['#5DA5DA', '#FAA43A', '#60BD68', '#F17CB0'])\n",
    "plt.axhline(y=overall_precision, color='r', linestyle='-', label=f'Overall Precision: {overall_precision:.2f}')\n",
    "\n",
    "plt.xlabel('News Category')\n",
    "plt.ylabel('Precision')\n",
    "plt.title('Semantic Search Category Precision by Topic')\n",
    "plt.ylim(0, 1.1)\n",
    "plt.legend()\n",
    "plt.xticks(rotation=45)\n",
    "plt.tight_layout()\n",
    "\n",
    "# Add value labels on top of bars\n",
    "for bar in bars:\n",
    "    height = bar.get_height()\n",
    "    plt.text(bar.get_x() + bar.get_width()/2., height + 0.02,\n",
    "            f'{height:.2f}', ha='center', va='bottom')\n",
    "\n",
    "plt.show()"
   ]
  },
  {
   "cell_type": "markdown",
   "metadata": {},
   "source": [
    "### 4.6 Cross-Category Retrieval"
   ]
  },
  {
   "cell_type": "code",
   "execution_count": 14,
   "metadata": {},
   "outputs": [],
   "source": [
    "# Evaluate articles that are conceptually similar but from different categories\n",
    "def find_cross_category_matches(category, index, df, top_k=10):\n",
    "    # Get a sample article from the given category\n",
    "    sample_article = df[df['category'] == category].iloc[0]['article']\n",
    "    sample_idx = df[df['category'] == category].iloc[0].name\n",
    "    \n",
    "    # Find similar articles\n",
    "    query_embedding = model.encode([sample_article])\n",
    "    faiss.normalize_L2(query_embedding)\n",
    "    scores, indices = index.search(query_embedding, top_k+1)  # +1 to exclude the article itself\n",
    "    \n",
    "    # Filter out the query article itself (should be the first match)\n",
    "    results = []\n",
    "    for i, idx in enumerate(indices[0]):\n",
    "        idx = int(idx)\n",
    "        if idx != sample_idx:  # Skip the source article\n",
    "            results.append({\n",
    "                'article': df.iloc[idx]['article'],\n",
    "                'category': df.iloc[idx]['category'],\n",
    "                'score': float(scores[0][i]),\n",
    "                'index': idx\n",
    "            })\n",
    "    \n",
    "    # Group by category\n",
    "    category_counts = {c: 0 for c in category_mapping.values()}\n",
    "    for r in results:\n",
    "        category_counts[r['category']] += 1\n",
    "    \n",
    "    print(f\"\\nSample article from {category} category:\")\n",
    "    print(f\"{sample_article[:200]}...\")\n",
    "    print(\"\\nSimilar articles by category:\")\n",
    "    for cat, count in category_counts.items():\n",
    "        print(f\"{cat}: {count} articles\")\n",
    "    \n",
    "    # Show an example of a cross-category match\n",
    "    cross_cat_results = [r for r in results if r['category'] != category]\n",
    "    if cross_cat_results:\n",
    "        print(f\"\\nExample of a cross-category match (from {cross_cat_results[0]['category']}):\")\n",
    "        print(f\"{cross_cat_results[0]['article'][:200]}...\")\n",
    "    \n",
    "    return results, category_counts"
   ]
  },
  {
   "cell_type": "code",
   "execution_count": 15,
   "metadata": {},
   "outputs": [
    {
     "name": "stdout",
     "output_type": "stream",
     "text": [
      "\n",
      "Sample article from World category:\n",
      "Venezuelans Vote Early in Referendum on Chavez Rule (Reuters) Reuters - Venezuelans turned out early\\and in large numbers on Sunday to vote in a historic referendum\\that will either remove left-wing P...\n",
      "\n",
      "Similar articles by category:\n",
      "World: 8 articles\n",
      "Sports: 0 articles\n",
      "Business: 2 articles\n",
      "Science/Technology: 0 articles\n",
      "\n",
      "Example of a cross-category match (from Business):\n",
      "Venezuela's Chavez Wins Recall Referendum  CARACAS, Venezuela (Reuters) - Venezuela's left-wing  President Hugo Chavez won a recall referendum on his divisive  rule in a vote backed on Monday by inter...\n",
      "\n",
      "Sample article from Sports category:\n",
      "Phelps, Thorpe Advance in 200 Freestyle (AP) AP - Michael Phelps took care of qualifying for the Olympic 200-meter freestyle semifinals Sunday, and then found out he had been added to the American tea...\n",
      "\n",
      "Similar articles by category:\n",
      "World: 5 articles\n",
      "Sports: 5 articles\n",
      "Business: 0 articles\n",
      "Science/Technology: 0 articles\n",
      "\n",
      "Example of a cross-category match (from World):\n",
      "Phelps, Thorpe Advance in 200 Freestyle ATHENS, Greece - Michael Phelps took care of qualifying for the Olympic 200-meter freestyle semifinals Sunday, and then found out he had been added to the Ameri...\n",
      "\n",
      "Sample article from Business category:\n",
      "Wall St. Bears Claw Back Into the Black (Reuters) Reuters - Short-sellers, Wall Street's dwindling\\band of ultra-cynics, are seeing green again....\n",
      "\n",
      "Similar articles by category:\n",
      "World: 0 articles\n",
      "Sports: 0 articles\n",
      "Business: 10 articles\n",
      "Science/Technology: 0 articles\n",
      "\n",
      "Sample article from Science/Technology category:\n",
      "'Madden,' 'ESPN' Football Score in Different Ways (Reuters) Reuters - Was absenteeism a little high\\on Tuesday among the guys at the office? EA Sports would like\\to think it was because \"Madden NFL 20...\n",
      "\n",
      "Similar articles by category:\n",
      "World: 0 articles\n",
      "Sports: 3 articles\n",
      "Business: 0 articles\n",
      "Science/Technology: 7 articles\n",
      "\n",
      "Example of a cross-category match (from Sports):\n",
      "Full Disclosure Ordered The NFL told its coaches Monday that they must be more specific in reporting injuries to players, saying the current wording of the policy \"invites action that runs counter to ...\n"
     ]
    }
   ],
   "source": [
    "# Test cross-category retrieval for each category\n",
    "for category in category_mapping.values():\n",
    "    results, category_counts = find_cross_category_matches(category, index, train_df, top_k=10)"
   ]
  },
  {
   "cell_type": "code",
   "execution_count": 16,
   "metadata": {},
   "outputs": [],
   "source": [
    "# Let's explore a specific use case: finding sports news related to business\n",
    "def explore_sports_business_connection(index, df):\n",
    "    # Query for articles at intersection of sports and business\n",
    "    sports_business_query = \"sports team financial performance and business deals\"\n",
    "    \n",
    "    results = semantic_news_search(sports_business_query, index, df, top_k=10)\n",
    "    \n",
    "    # Count articles by category\n",
    "    category_counts = {cat: 0 for cat in category_mapping.values()}\n",
    "    for r in results:\n",
    "        category_counts[r['category']] += 1\n",
    "    \n",
    "    print(f\"Query: {sports_business_query}\")\n",
    "    print(\"\\nCategory distribution of results:\")\n",
    "    for cat, count in category_counts.items():\n",
    "        print(f\"{cat}: {count} articles\")\n",
    "    \n",
    "    # Show examples from each main category of interest\n",
    "    sports_example = next((r for r in results if r['category'] == 'Sports'), None)\n",
    "    business_example = next((r for r in results if r['category'] == 'Business'), None)\n",
    "    \n",
    "    if sports_example:\n",
    "        print(f\"\\nSports article example (Score: {sports_example['score']:.4f}):\")\n",
    "        print(f\"{sports_example['article'][:300]}...\")\n",
    "    \n",
    "    if business_example:\n",
    "        print(f\"\\nBusiness article example (Score: {business_example['score']:.4f}):\")\n",
    "        print(f\"{business_example['article'][:300]}...\")\n",
    "    \n",
    "    return results, category_counts"
   ]
  },
  {
   "cell_type": "code",
   "execution_count": 17,
   "metadata": {},
   "outputs": [
    {
     "name": "stdout",
     "output_type": "stream",
     "text": [
      "Query: sports team financial performance and business deals\n",
      "\n",
      "Category distribution of results:\n",
      "World: 2 articles\n",
      "Sports: 5 articles\n",
      "Business: 3 articles\n",
      "Science/Technology: 0 articles\n",
      "\n",
      "Sports article example (Score: 0.4368):\n",
      "Business Is Business When it comes to qualifying for the main draw of the Legg Mason Tennis Classic, Robert Kendrick knows that survival takes precedence and friendships are put on hold....\n",
      "\n",
      "Business article example (Score: 0.4426):\n",
      "JJB Shares Drop: Profit May Be 20 Less Than Forecast (Update2) Aug. 19 (Bloomberg) -- Shares of JJB Sports Plc, Britain #39;s largest sporting-goods retailer, had their biggest decline in at least two years after the company said profit this fiscal year may be about 20 percent less than forecast ami...\n"
     ]
    }
   ],
   "source": [
    "# Explore sports-business connection\n",
    "sports_business_results, sb_category_counts = explore_sports_business_connection(index, train_df)"
   ]
  },
  {
   "cell_type": "markdown",
   "metadata": {},
   "source": [
    "## 5. Evaluation\n",
    "\n",
    "### Performance Analysis\n",
    "\n",
    "Based on the evaluation results, we can assess the strengths and limitations of the semantic search system for news articles:\n",
    "\n",
    "#### Strengths:\n",
    "- The system effectively retrieves news articles based on semantic meaning, not just keywords\n",
    "- It can identify relevant content within specific news categories (good category precision)\n",
    "- Cross-category retrieval demonstrates the ability to find conceptually related content across traditional news categories\n",
    "- The system handles complex queries for news content discovery\n",
    "- Easy integration with news publishing platforms as a powerful content recommendation engine\n",
    "\n",
    "#### Limitations:\n",
    "- Short news articles might lack enough context for precise semantic understanding\n",
    "- The system doesn't incorporate temporal aspects of news (recency, trending topics)\n",
    "- Category boundaries can be blurry for some topics (e.g., business-sports, tech-business)\n",
    "- The current model might not capture domain-specific news terminology optimally\n",
    "- Scaling to millions of articles would require more sophisticated indexing approaches"
   ]
  },
  {
   "cell_type": "markdown",
   "metadata": {},
   "source": [
    "## 6. Recommendations for Improvement\n",
    "\n",
    "### Short-term Improvements\n",
    "1. **Fine-tuning for news domain**: Train the embedding model on news-specific corpora to better understand journalistic content\n",
    "2. **Incorporate temporal factors**: Add recency scoring to prioritize newer content when appropriate\n",
    "3. **Hybrid retrieval**: Combine semantic search with keyword-based BM25 to capture both semantic and exact matches\n",
    "4. **User context integration**: Incorporate user reading history to personalize search results\n",
    "\n",
    "### Long-term Improvements\n",
    "1. **Multi-vector representations**: Represent long articles with multiple embeddings to capture different aspects\n",
    "2. **Entity-aware search**: Extract named entities (people, organizations, locations) to enhance search precision\n",
    "3. **Topic modeling integration**: Combine explicit topics with semantic search for better categorization\n",
    "4. **Feedback loop**: Incorporate user engagement metrics (clicks, time spent) to improve relevance\n",
    "5. **Multimedia integration**: Extend the system to incorporate images and videos from news content"
   ]
  },
  {
   "cell_type": "markdown",
   "metadata": {},
   "source": [
    "## Conclusion\n",
    "\n",
    "This project demonstrates the implementation of a semantic search system for news articles that can significantly enhance content discovery in media publishing. By encoding news content into dense vector representations and using efficient similarity search, we're able to match user queries with relevant articles based on semantic meaning rather than just keywords.\n",
    "\n",
    "The evaluation metrics indicate that the system performs well at retrieving topically relevant news and can even identify connections across traditional news categories. This capability is particularly valuable for media publishers seeking to increase user engagement through better content recommendations.\n",
    "\n",
    "Such a system could be deployed as part of a news platform to:\n",
    "1. Enhance search functionality for readers\n",
    "2. Power \"related articles\" recommendations\n",
    "3. Create topic-based content collections\n",
    "4. Support journalists in research by finding relevant past coverage\n",
    "\n",
    "Future work would focus on incorporating temporal aspects, personalization, and scaling to larger news archives while maintaining performance."
   ]
  },
  {
   "cell_type": "markdown",
   "metadata": {},
   "source": [
    "## Memory Optimization Notes\n",
    "\n",
    "This notebook has been optimized for lower memory usage through several techniques:\n",
    "\n",
    "1. **Working with data subsets**: Using smaller portions of the dataset\n",
    "2. **Smaller batch sizes**: Using batch_size=16 for encoding\n",
    "3. **Caching embeddings**: Saving and loading embeddings to avoid recomputation\n",
    "4. **Garbage collection**: Explicitly calling garbage collection after large operations\n",
    "\n",
    "If you still experience memory issues, you can further reduce the MAX_TRAIN_SAMPLES and MAX_TEST_SAMPLES values."
   ]
  }
 ],
 "metadata": {
  "kernelspec": {
   "display_name": "Python 3 (ipykernel)",
   "language": "python",
   "name": "python3"
  },
  "language_info": {
   "codemirror_mode": {
    "name": "ipython",
    "version": 3
   },
   "file_extension": ".py",
   "mimetype": "text/x-python",
   "name": "python",
   "nbconvert_exporter": "python",
   "pygments_lexer": "ipython3",
   "version": "3.9.17"
  }
 },
 "nbformat": 4,
 "nbformat_minor": 4
}
